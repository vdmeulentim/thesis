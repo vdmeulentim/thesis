{
 "cells": [
  {
   "cell_type": "code",
   "execution_count": 174,
   "metadata": {},
   "outputs": [
    {
     "name": "stdout",
     "output_type": "stream",
     "text": [
      "   Unnamed: 0          ID  Age     Sex  Tetris experience  \\\n",
      "0           0  A112930031   52    Male                  3   \n",
      "1           1  A103030031   19    Male                  1   \n",
      "2           2  B103030032   19  Female                  1   \n",
      "3           3  A113030031   25    Male                  1   \n",
      "4           4  A133030031   23    Male                  2   \n",
      "\n",
      "   Videogames hours a week Tetris hours a week  \\\n",
      "0                        2                   0   \n",
      "1                        4                   0   \n",
      "2                        0                   0   \n",
      "3                        1                   0   \n",
      "4                        0                   0   \n",
      "\n",
      "   Subjective duration estimation  Game events sum  Mistake likelyhood  ...  \\\n",
      "0                             2.0               11                   4  ...   \n",
      "1                             0.9               11                   4  ...   \n",
      "2                             6.8               15                   4  ...   \n",
      "3                             2.0               13                   4  ...   \n",
      "4                             4.0               15                   4  ...   \n",
      "\n",
      "   Total left/right per minute  sum across game  Average score  std avg score  \\\n",
      "0                    42.538462             4151    2075.500000    1237.500000   \n",
      "1                    33.000000             6899    2299.666667    2669.444678   \n",
      "2                    82.307692             1135     283.750000     105.684377   \n",
      "3                    46.000000             4608    2304.000000    2145.000000   \n",
      "4                    59.000000             1841     368.200000     336.627628   \n",
      "\n",
      "   Max score  Min score  Min level  Max level  Average level  Matches played  \n",
      "0       3313        838          1          3            2.0               2  \n",
      "1       6066        193          0          2            1.0               3  \n",
      "2        438        180          0          0            0.0               4  \n",
      "3       4449        159          0          3            1.5               2  \n",
      "4        969         79          0          1            0.2               5  \n",
      "\n",
      "[5 rows x 34 columns]\n"
     ]
    }
   ],
   "source": [
    "import pandas as pd\n",
    "\n",
    "# import data from Excel\n",
    "data = pd.read_excel(\"C:\\\\Users\\\\Tim\\Desktop\\\\Data Science\\\\Scriptie\\\\Tetris data\\\\dataset_for_data_mining.xlsx\")\n",
    "\n",
    "# print the data\n",
    "print(data.head())\n"
   ]
  },
  {
   "cell_type": "code",
   "execution_count": 175,
   "metadata": {},
   "outputs": [
    {
     "name": "stdout",
     "output_type": "stream",
     "text": [
      "Index(['unnamed:_0', 'id', 'age', 'sex', 'tetris_experience',\n",
      "       'videogames_hours_a_week', 'tetris_hours_a_week',\n",
      "       'subjective_duration_estimation', 'game_events_sum',\n",
      "       'mistake_likelyhood', 'mistake_correction_skills', 'use_of_next_info',\n",
      "       'flow_score', 'total_keystrokes', 'keystroke_per_minute', 'total_down',\n",
      "       'total_left', 'total_right', 'total_left_right',\n",
      "       'total_clockwise_rotations', 'total_conterclockwise_rotations',\n",
      "       'total_rotations', 'total_rotations_x_minute',\n",
      "       'abs_diff_clockwise_conterclockwise', 'total_left_right_per_minute',\n",
      "       'sum_across_game', 'average_score', 'std_avg_score', 'max_score',\n",
      "       'min_score', 'min_level', 'max_level', 'average_level',\n",
      "       'matches_played'],\n",
      "      dtype='object')\n"
     ]
    }
   ],
   "source": [
    "# Function to modify column names\n",
    "def format_column_name(column_name):\n",
    "    return column_name.lower().replace(\" \", \"_\").replace(\"/\", \"_\")\n",
    "\n",
    "# Adjust the column names\n",
    "data.columns = [format_column_name(col) for col in data.columns]\n",
    "\n",
    "# Display the updated columns\n",
    "print(data.columns)"
   ]
  },
  {
   "cell_type": "code",
   "execution_count": 176,
   "metadata": {},
   "outputs": [
    {
     "name": "stdout",
     "output_type": "stream",
     "text": [
      "0     1\n",
      "1     0\n",
      "2     0\n",
      "3     0\n",
      "4     0\n",
      "     ..\n",
      "75    0\n",
      "76    1\n",
      "77    0\n",
      "78    1\n",
      "79    1\n",
      "Name: tetris_experience_binary, Length: 80, dtype: int64\n"
     ]
    }
   ],
   "source": [
    "# calculate median of Tetris experience column\n",
    "median_experience = data[\"tetris_experience\"].median()\n",
    "\n",
    "# create a new column called \"Experience level_binary\" and set it to \"Low\" for values less than or equal to median, and \"High\" for values greater than median\n",
    "data[\"tetris_experience_binary\"] = [0 if x <= median_experience else 1 for x in data[\"tetris_experience\"]]\n",
    "\n",
    "# print the updated data\n",
    "print(data[\"tetris_experience_binary\"])"
   ]
  },
  {
   "cell_type": "code",
   "execution_count": 177,
   "metadata": {},
   "outputs": [
    {
     "name": "stdout",
     "output_type": "stream",
     "text": [
      "0     1\n",
      "1     0\n",
      "2     0\n",
      "3     0\n",
      "4     0\n",
      "     ..\n",
      "75    0\n",
      "76    1\n",
      "77    0\n",
      "78    1\n",
      "79    1\n",
      "Name: tetris_experience_binary, Length: 80, dtype: int64\n"
     ]
    }
   ],
   "source": [
    "# calculate median of 'Videogames Hours a Week' column\n",
    "median_experience = data[\"videogames_hours_a_week\"].median()\n",
    "\n",
    "# create a new column called \"videogames_hours_a_week_binary\" and set it to 0 for values less than or equal to median, and 1 for values greater than median\n",
    "data[\"videogames_hours_a_week_binary\"] = [0 if x <= median_experience else 1 for x in data[\"videogames_hours_a_week\"]]\n",
    "\n",
    "# print the updated data\n",
    "print(data[\"tetris_experience_binary\"])"
   ]
  },
  {
   "cell_type": "code",
   "execution_count": 178,
   "metadata": {},
   "outputs": [
    {
     "name": "stdout",
     "output_type": "stream",
     "text": [
      "0     0\n",
      "1     0\n",
      "2     0\n",
      "3     0\n",
      "4     0\n",
      "     ..\n",
      "75    0\n",
      "76    0\n",
      "77    0\n",
      "78    0\n",
      "79    0\n",
      "Name: tetris_hours_a_week_binary, Length: 80, dtype: int64\n"
     ]
    }
   ],
   "source": [
    "# create a new column called \"Tetris hours a week_binary\" and set it to 0 for values that are zero, and 1 for values greater than zero.\n",
    "data[\"tetris_hours_a_week_binary\"] = [0 if x == 0 else 1 for x in data[\"tetris_hours_a_week\"]]\n",
    "\n",
    "# print the updated data\n",
    "print(data[\"tetris_hours_a_week_binary\"])\n"
   ]
  },
  {
   "cell_type": "code",
   "execution_count": 179,
   "metadata": {},
   "outputs": [],
   "source": [
    "# Remove rows where the 'sex' column has a value other than 'Male' or 'Female'\n",
    "data = data[data['sex'].isin(['Male', 'Female'])]\n",
    "\n",
    "# Create a new binary column 'is_male' where 'Male' is 1 and 'Female' is 0\n",
    "data['sex_num'] = data['sex'].map({'Male': 1, 'Female': 0})"
   ]
  },
  {
   "cell_type": "code",
   "execution_count": 180,
   "metadata": {},
   "outputs": [
    {
     "name": "stdout",
     "output_type": "stream",
     "text": [
      "0     1\n",
      "1     0\n",
      "2     0\n",
      "3     1\n",
      "4     1\n",
      "     ..\n",
      "75    0\n",
      "76    0\n",
      "77    0\n",
      "78    1\n",
      "79    1\n",
      "Name: age_binary, Length: 79, dtype: int64\n"
     ]
    }
   ],
   "source": [
    "# calculate median of 'Age' column\n",
    "median_experience = data[\"age\"].median()\n",
    "\n",
    "# create a new column called \"age_binary\" and set it to 0 for values less than or equal to median, and 1 for values greater than median\n",
    "data[\"age_binary\"] = [0 if x <= median_experience else 1 for x in data[\"age\"]]\n",
    "\n",
    "# print the updated data\n",
    "print(data[\"age_binary\"])"
   ]
  },
  {
   "cell_type": "code",
   "execution_count": 181,
   "metadata": {},
   "outputs": [],
   "source": [
    "from sklearn.cluster import KMeans\n",
    "\n",
    "# K-means clustering of 'age'.\n",
    "ages = data[\"age\"].values.reshape(-1, 1)\n",
    "\n",
    "# Choose the number of clusters\n",
    "n_clusters = 2\n",
    "\n",
    "# Perform k-means clustering\n",
    "kmeans = KMeans(n_clusters=n_clusters, random_state=0).fit(ages)\n",
    "\n",
    "# Get the cluster assignments for each age\n",
    "cluster_assignments1 = kmeans.labels_\n",
    "\n",
    "data['age_cluster'] = cluster_assignments1"
   ]
  },
  {
   "cell_type": "code",
   "execution_count": 182,
   "metadata": {},
   "outputs": [],
   "source": [
    "# K-means clustering of 'videogames_hours_a_week'.\n",
    "ages = data['videogames_hours_a_week'].values.reshape(-1, 1)\n",
    "\n",
    "# Choose the number of clusters\n",
    "n_clusters = 2\n",
    "\n",
    "# Perform k-means clustering\n",
    "kmeans = KMeans(n_clusters=n_clusters, random_state=0).fit(ages)\n",
    "\n",
    "# Get the cluster assignments for each age\n",
    "cluster_assignments = kmeans.labels_\n",
    "\n",
    "data['videogames_hours_a_week_cluster'] = cluster_assignments"
   ]
  },
  {
   "cell_type": "code",
   "execution_count": 183,
   "metadata": {},
   "outputs": [
    {
     "name": "stdout",
     "output_type": "stream",
     "text": [
      "Index(['unnamed:_0', 'id', 'age', 'sex', 'tetris_experience',\n",
      "       'videogames_hours_a_week', 'tetris_hours_a_week',\n",
      "       'subjective_duration_estimation', 'game_events_sum',\n",
      "       'mistake_likelyhood', 'mistake_correction_skills', 'use_of_next_info',\n",
      "       'flow_score', 'total_keystrokes', 'keystroke_per_minute', 'total_down',\n",
      "       'total_left', 'total_right', 'total_left_right',\n",
      "       'total_clockwise_rotations', 'total_conterclockwise_rotations',\n",
      "       'total_rotations', 'total_rotations_x_minute',\n",
      "       'abs_diff_clockwise_conterclockwise', 'total_left_right_per_minute',\n",
      "       'sum_across_game', 'average_score', 'std_avg_score', 'max_score',\n",
      "       'min_score', 'min_level', 'max_level', 'average_level',\n",
      "       'matches_played', 'tetris_experience_binary',\n",
      "       'videogames_hours_a_week_binary', 'tetris_hours_a_week_binary',\n",
      "       'sex_num', 'age_binary', 'age_cluster',\n",
      "       'videogames_hours_a_week_cluster', 'total_keystrokes_averagepergame',\n",
      "       'total_down_averagepergame', 'total_left_averagepergame',\n",
      "       'total_right_averagepergame', 'total_left_right_averagepergame',\n",
      "       'total_clockwise_rotations_averagepergame',\n",
      "       'total_conterclockwise_rotations_averagepergame',\n",
      "       'total_rotations_averagepergame'],\n",
      "      dtype='object')\n"
     ]
    }
   ],
   "source": [
    "# Create 'total_keystrokes_averagepergame' column to divide the total number of keystrokes by the number of matched played.\n",
    "data[\"total_keystrokes_averagepergame\"] = data[\"total_keystrokes\"] / data[\"matches_played\"]\n",
    "\n",
    "# Create 'total_down_averagepergame' column to divide the total down by the number of matched played.\n",
    "data[\"total_down_averagepergame\"] = data[\"total_down\"] / data[\"matches_played\"]\n",
    "\n",
    "# Create 'total_left_averagepergame' column to divide the total left by the number of matched played.\n",
    "data[\"total_left_averagepergame\"] = data[\"total_left\"] / data[\"matches_played\"]\n",
    "\n",
    "# Create 'total_right_averagepergame' column to divide the total right by the number of matched played.\n",
    "data[\"total_right_averagepergame\"] = data[\"total_right\"] / data[\"matches_played\"]\n",
    "\n",
    "# Create 'total_left_right_averagepergame' column to divide the total left_right by the number of matched played.\n",
    "data[\"total_left_right_averagepergame\"] = data[\"total_left_right\"] / data[\"matches_played\"]\n",
    "\n",
    "# Create 'total_clockwise_rotations_averagepergame' column to divide the total clockwise rotations by the number of matched played.\n",
    "data[\"total_clockwise_rotations_averagepergame\"] = data[\"total_clockwise_rotations\"] / data[\"matches_played\"]\n",
    "\n",
    "# Create 'total_conterclockwise_rotations_averagepergame' column to divide the total conter clockwise rotations by the number of matched played.\n",
    "data[\"total_conterclockwise_rotations_averagepergame\"] = data[\"total_conterclockwise_rotations\"] / data[\"matches_played\"]\n",
    "\n",
    "# Create 'total_rotations_averagepergame' column to divide the total rotations by the number of matched played.\n",
    "data[\"total_rotations_averagepergame\"] = data[\"total_rotations\"] / data[\"matches_played\"]\n",
    "\n",
    "# Display the new columns\n",
    "print(data.columns)\n",
    "\n",
    "# save the dataframe as an Excel file\n",
    "data.to_excel('output_preprocessed_data.xlsx', index=False)\n"
   ]
  }
 ],
 "metadata": {
  "kernelspec": {
   "display_name": "base",
   "language": "python",
   "name": "python3"
  },
  "language_info": {
   "codemirror_mode": {
    "name": "ipython",
    "version": 3
   },
   "file_extension": ".py",
   "mimetype": "text/x-python",
   "name": "python",
   "nbconvert_exporter": "python",
   "pygments_lexer": "ipython3",
   "version": "3.9.12"
  },
  "orig_nbformat": 4,
  "vscode": {
   "interpreter": {
    "hash": "1b5c637c5c17e7841ce3b55fac6772e1460db6e5f5b3923b76ec2696de093845"
   }
  }
 },
 "nbformat": 4,
 "nbformat_minor": 2
}
