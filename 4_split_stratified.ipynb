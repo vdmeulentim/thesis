{
 "cells": [
  {
   "cell_type": "code",
   "execution_count": 37,
   "metadata": {},
   "outputs": [
    {
     "name": "stdout",
     "output_type": "stream",
     "text": [
      "Index(['unnamed:_0', 'id', 'age', 'sex', 'tetris_experience',\n",
      "       'videogames_hours_a_week', 'tetris_hours_a_week',\n",
      "       'subjective_duration_estimation', 'game_events_sum',\n",
      "       'mistake_likelyhood', 'mistake_correction_skills', 'use_of_next_info',\n",
      "       'flow_score', 'total_keystrokes', 'keystroke_per_minute', 'total_down',\n",
      "       'total_left', 'total_right', 'total_left_right',\n",
      "       'total_clockwise_rotations', 'total_conterclockwise_rotations',\n",
      "       'total_rotations', 'total_rotations_x_minute',\n",
      "       'abs_diff_clockwise_conterclockwise', 'total_left_right_per_minute',\n",
      "       'sum_across_game', 'average_score', 'std_avg_score', 'max_score',\n",
      "       'min_score', 'min_level', 'max_level', 'average_level',\n",
      "       'matches_played', 'tetris_experience_binary',\n",
      "       'videogames_hours_a_week_binary', 'tetris_hours_a_week_binary',\n",
      "       'sex_num', 'age_binary', 'age_cluster',\n",
      "       'videogames_hours_a_week_cluster', 'total_keystrokes_averagepergame',\n",
      "       'total_down_averagepergame', 'total_left_averagepergame',\n",
      "       'total_right_averagepergame', 'total_left_right_averagepergame',\n",
      "       'total_clockwise_rotations_averagepergame',\n",
      "       'total_conterclockwise_rotations_averagepergame',\n",
      "       'total_rotations_averagepergame'],\n",
      "      dtype='object')\n"
     ]
    }
   ],
   "source": [
    "import pandas as pd\n",
    "\n",
    "# import data from Excel\n",
    "data = pd.read_excel(\"C:\\\\Users\\\\Tim\\\\Desktop\\\\Data Science\\\\Scriptie\\\\Tetris data\\\\code\\\\output_preprocessed_data.xlsx\")\n",
    "\n",
    "# print the columns\n",
    "print(data.columns)\n"
   ]
  },
  {
   "cell_type": "code",
   "execution_count": 38,
   "metadata": {},
   "outputs": [
    {
     "name": "stdout",
     "output_type": "stream",
     "text": [
      "Requirement already satisfied: pandas in c:\\users\\tim\\anaconda3\\lib\\site-packages (1.4.2)\n",
      "Requirement already satisfied: numpy in c:\\users\\tim\\anaconda3\\lib\\site-packages (1.21.5)\n",
      "Requirement already satisfied: scikit-learn in c:\\users\\tim\\anaconda3\\lib\\site-packages (1.0.2)\n",
      "Requirement already satisfied: openpyxl in c:\\users\\tim\\anaconda3\\lib\\site-packages (3.0.9)\n",
      "Requirement already satisfied: pytz>=2020.1 in c:\\users\\tim\\anaconda3\\lib\\site-packages (from pandas) (2021.3)\n",
      "Requirement already satisfied: python-dateutil>=2.8.1 in c:\\users\\tim\\anaconda3\\lib\\site-packages (from pandas) (2.8.2)\n",
      "Requirement already satisfied: threadpoolctl>=2.0.0 in c:\\users\\tim\\anaconda3\\lib\\site-packages (from scikit-learn) (2.2.0)\n",
      "Requirement already satisfied: scipy>=1.1.0 in c:\\users\\tim\\anaconda3\\lib\\site-packages (from scikit-learn) (1.7.3)\n",
      "Requirement already satisfied: joblib>=0.11 in c:\\users\\tim\\anaconda3\\lib\\site-packages (from scikit-learn) (1.1.0)\n",
      "Requirement already satisfied: et-xmlfile in c:\\users\\tim\\anaconda3\\lib\\site-packages (from openpyxl) (1.1.0)\n",
      "Requirement already satisfied: six>=1.5 in c:\\users\\tim\\anaconda3\\lib\\site-packages (from python-dateutil>=2.8.1->pandas) (1.16.0)\n"
     ]
    }
   ],
   "source": [
    "!pip install pandas numpy scikit-learn openpyxl\n",
    "from sklearn.model_selection import train_test_split\n",
    "\n",
    "# Define the columns to stratify by\n",
    "stratify_columns = ['age_binary','sex_num', 'videogames_hours_a_week_binary']\n",
    "\n",
    "# Calculate the combined stratification key\n",
    "data['stratify_key'] = data[stratify_columns].apply(tuple, axis=1)\n",
    "\n",
    "# Perform the first split: 80% train + validation, 20% test\n",
    "train_val_data, test_data = train_test_split(data, test_size=0.2, stratify=data['stratify_key'], random_state=42)\n",
    "\n",
    "# Perform the second split: 60% train, 20% validation (75% of the remaining 80%)\n",
    "train_data, val_data = train_test_split(train_val_data, test_size=0.25, stratify=train_val_data['stratify_key'], random_state=42)\n",
    "\n",
    "# Save the split datasets to separate Excel files\n",
    "train_val_data.to_excel('train_val_data.xlsx', index=False)\n",
    "train_data.to_excel('train_data.xlsx', index=False)\n",
    "val_data.to_excel('val_data.xlsx', index=False)\n",
    "test_data.to_excel('test_data.xlsx', index=False)"
   ]
  }
 ],
 "metadata": {
  "kernelspec": {
   "display_name": "base",
   "language": "python",
   "name": "python3"
  },
  "language_info": {
   "codemirror_mode": {
    "name": "ipython",
    "version": 3
   },
   "file_extension": ".py",
   "mimetype": "text/x-python",
   "name": "python",
   "nbconvert_exporter": "python",
   "pygments_lexer": "ipython3",
   "version": "3.9.12"
  },
  "orig_nbformat": 4,
  "vscode": {
   "interpreter": {
    "hash": "1b5c637c5c17e7841ce3b55fac6772e1460db6e5f5b3923b76ec2696de093845"
   }
  }
 },
 "nbformat": 4,
 "nbformat_minor": 2
}
